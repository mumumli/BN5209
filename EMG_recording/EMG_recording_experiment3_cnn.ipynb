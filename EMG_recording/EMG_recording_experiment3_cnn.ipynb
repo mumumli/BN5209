{
 "cells": [
  {
   "cell_type": "code",
   "execution_count": 13,
   "metadata": {},
   "outputs": [],
   "source": [
    "import wave\n",
    "import matplotlib.pyplot as plt\n",
    "import numpy as np\n",
    "\n",
    "import scipy as sp\n",
    "from scipy import signal\n",
    "\n",
    "import os\n",
    "\n",
    "from sklearn import metrics\n",
    "import pandas as pd\n",
    "import seaborn as sns"
   ]
  },
  {
   "cell_type": "code",
   "execution_count": 14,
   "metadata": {},
   "outputs": [],
   "source": [
    "def read_actions(path):\n",
    "    files = os.listdir(path)\n",
    "    num_files = len(files)\n",
    "    segment_size = 2000\n",
    "    data = np.zeros((num_files, segment_size), dtype=np.int16)\n",
    "    \n",
    "    for i in range(num_files):\n",
    "        file = files[i]\n",
    "        if \".DS_Store\" not in file:\n",
    "            with open(path + \"/\" +file, \"rb\") as f:\n",
    "                signal = [float(line.strip()) for line in f]\n",
    "                data[i, :] = signal\n",
    "        else:\n",
    "            continue        \n",
    "        \n",
    "    return data\n",
    "\n",
    "\n",
    "def wave_data_loader():\n",
    "    flexion = read_actions('./flexion' + \"/action/\")\n",
    "    openhand = read_actions('./openhand' + \"/action/\")\n",
    "    punch = read_actions('./punch' + \"/action/\")\n",
    "    rest1 = read_actions('./flexion' + \"/rest/\")\n",
    "    rest2 = read_actions('./openhand' + \"/rest/\")\n",
    "    rest3 = read_actions('./punch' + \"/rest/\")\n",
    "    \n",
    "    all_data = np.vstack((flexion,\n",
    "                          openhand,\n",
    "                          punch,\n",
    "#                           rest1,\n",
    "                          rest2,\n",
    "#                           rest3\n",
    "                         ))\n",
    "    label = np.hstack(([1]*flexion.shape[0],\n",
    "                      [2]*openhand.shape[0],\n",
    "                      [3]*punch.shape[0],\n",
    "#                       [0]*rest1.shape[0],\n",
    "                      [0]*rest2.shape[0],\n",
    "#                       [0]*rest3.shape[0]\n",
    "                      ))\n",
    "    label = np.transpose(label)\n",
    "#     label_multiClass = np.zeros((label.size,4))\n",
    "#     for i in range(label.size):\n",
    "#         label_multiClass[i,label[i]] = 1\n",
    "    return all_data, label\n"
   ]
  },
  {
   "cell_type": "code",
   "execution_count": 283,
   "metadata": {},
   "outputs": [],
   "source": [
    "import torch\n",
    "import torch.nn as nn\n",
    "import torch.optim as optim\n",
    "from torch.utils.data import Dataset, DataLoader, random_split\n",
    "\n",
    "class WaveformDataset(Dataset):\n",
    "    def __init__(self):\n",
    "        self.signals, self.labels = wave_data_loader()\n",
    "\n",
    "    def __len__(self):\n",
    "        return len(self.signals)\n",
    "\n",
    "    def __getitem__(self, idx):\n",
    "        signal = self.signals[idx]\n",
    "        label = self.labels[idx]\n",
    "        return signal, label\n",
    "\n",
    "    \n",
    "    \n",
    "class WaveformCNN(nn.Module):\n",
    "    def __init__(self):\n",
    "        super(WaveformCNN, self).__init__()\n",
    "        self.conv1 = nn.Sequential(nn.Conv1d(in_channels=1, \n",
    "                                             out_channels=8, \n",
    "                                             kernel_size=7, \n",
    "                                             stride=4, \n",
    "                                             padding=3),\n",
    "                                   nn.BatchNorm1d(8),\n",
    "                                   nn.ReLU(),\n",
    "                                   nn.MaxPool1d(kernel_size=5, stride=5),\n",
    "                                   nn.Dropout(0.3))\n",
    "\n",
    "        self.conv2 = nn.Sequential(nn.Conv1d(in_channels=8, \n",
    "                                             out_channels=16, \n",
    "                                             kernel_size=5, \n",
    "                                             stride=2, \n",
    "                                             padding=2),\n",
    "                                   nn.BatchNorm1d(16),\n",
    "                                   nn.ReLU(),\n",
    "                                   nn.MaxPool1d(kernel_size=2, stride=2),\n",
    "                                   nn.Dropout(0.3))\n",
    "\n",
    "        self.fc1 = nn.Sequential(nn.Linear(int(16 * 2000/4/4/5), 16),\n",
    "                                 nn.Dropout(0.3),\n",
    "                                 nn.ReLU())\n",
    "#         \n",
    "        self.fc2 = nn.Linear(16, 4)\n",
    "\n",
    "    def forward(self, x):\n",
    "        x = x.unsqueeze(1)\n",
    "        x = self.conv1(x)\n",
    "        x = self.conv2(x)\n",
    "        x = torch.flatten(x, start_dim=1)\n",
    "        x = self.fc1(x)\n",
    "        x = self.fc2(x)\n",
    "        return x\n",
    "    \n",
    "    \n",
    "def train(model, device, train_loader, optimizer, epoch):\n",
    "    \"\"\"\n",
    "    Trains the specified model for one epoch.\n",
    "    \"\"\"\n",
    "    model.train()\n",
    "    for batch_idx, data in enumerate(train_loader):\n",
    "        signal, label = data[0].to(device), data[1].to(device)\n",
    "        optimizer.zero_grad()\n",
    "        output = model(signal.float())\n",
    "#         print(output)\n",
    "#         print(label)\n",
    "        loss = nn.CrossEntropyLoss()(output, label)\n",
    "        loss.backward()\n",
    "        optimizer.step()\n",
    "        \n",
    "        if batch_idx % 20 == 0:\n",
    "            print('Train Epoch: {} [{}/{} ({:.0f}%)]\\tLoss: {:.6f}'.format(\n",
    "                epoch, batch_idx * len(signal), len(train_loader.dataset),\n",
    "                       100. * batch_idx / len(train_loader), loss.item()))\n",
    "\n",
    "            \n",
    "def test(model, test_loader):\n",
    "    # Test the model\n",
    "    correct = 0\n",
    "    total = 0\n",
    "    with torch.no_grad():\n",
    "        model.eval() \n",
    "        for signals, labels in test_loader:\n",
    "            test_output = model(signals.float())\n",
    "            _, pred_y = torch.max(test_output.data, 1)\n",
    "#             pred_y = torch.max(test_output, 1)[1].data.squeeze()  # the same function as above\n",
    "            total += labels.size(0)\n",
    "            correct += (pred_y == labels).sum().item()\n",
    "            \n",
    "    print(f'Accuracy of the CNN on the {total} signals: {100 * correct // total} %')\n",
    "#     print(correct)\n",
    "#     print(total)\n",
    "\n",
    "\n",
    "# confusion matrix\n",
    "def confusion_matrix(model, test_loader):\n",
    "\n",
    "    y_true = []\n",
    "    y_pred = []\n",
    "    \n",
    "    with torch.no_grad():\n",
    "        model.eval() \n",
    "        for signals, labels in test_loader:\n",
    "            outputs = model(signals.float())\n",
    "            _, predicted = torch.max(outputs.data, 1)\n",
    "            y_pred.extend(predicted.cpu().numpy())   \n",
    "            y_true.extend(labels.cpu().numpy())\n",
    "    \n",
    "    cf_matrix = metrics.confusion_matrix(y_true, y_pred)\n",
    "    \n",
    "    class_names = ('rest', 'flexion', 'openhand', 'punch')\n",
    " \n",
    "    # Create pandas dataframe\n",
    "    dataframe = pd.DataFrame(cf_matrix, index=class_names, columns=class_names)\n",
    "    \n",
    "    plt.figure(figsize=(8, 6))\n",
    "\n",
    "    # Create heatmap\n",
    "    sns.heatmap(dataframe, annot=True, cbar=None,cmap=\"YlGnBu\",fmt=\"d\")\n",
    "\n",
    "    plt.title(\"Confusion Matrix\"), plt.tight_layout()\n",
    "\n",
    "    plt.ylabel(\"True Class\"), \n",
    "    plt.xlabel(\"Predicted Class\")\n",
    "    plt.show()"
   ]
  },
  {
   "cell_type": "code",
   "execution_count": 284,
   "metadata": {},
   "outputs": [],
   "source": [
    "dataset = WaveformDataset()\n",
    "train_set, test_set = random_split(dataset, [int(0.8*len(dataset)), int(0.2*len(dataset))+1])\n",
    "train_loader = DataLoader(train_set, batch_size=10, shuffle=True)\n",
    "test_loader = DataLoader(test_set, batch_size=10, shuffle=True)\n",
    "device = torch.device(\"cuda\" if torch.cuda.is_available() else \"cpu\")\n",
    "model = WaveformCNN().to(device)\n",
    "optimizer = optim.Adam(model.parameters(), lr=0.001, weight_decay=1e-3)"
   ]
  },
  {
   "cell_type": "code",
   "execution_count": 314,
   "metadata": {},
   "outputs": [
    {
     "name": "stdout",
     "output_type": "stream",
     "text": [
      "Train Epoch: 1 [0/824 (0%)]\tLoss: 0.396867\n",
      "Train Epoch: 1 [200/824 (24%)]\tLoss: 0.699334\n",
      "Train Epoch: 1 [400/824 (48%)]\tLoss: 0.277701\n",
      "Train Epoch: 1 [600/824 (72%)]\tLoss: 0.094909\n",
      "Train Epoch: 1 [800/824 (96%)]\tLoss: 0.983615\n",
      "Train Epoch: 2 [0/824 (0%)]\tLoss: 0.451549\n",
      "Train Epoch: 2 [200/824 (24%)]\tLoss: 0.429126\n",
      "Train Epoch: 2 [400/824 (48%)]\tLoss: 0.580134\n",
      "Train Epoch: 2 [600/824 (72%)]\tLoss: 0.606569\n",
      "Train Epoch: 2 [800/824 (96%)]\tLoss: 0.103049\n",
      "Train Epoch: 3 [0/824 (0%)]\tLoss: 0.270397\n",
      "Train Epoch: 3 [200/824 (24%)]\tLoss: 0.404652\n",
      "Train Epoch: 3 [400/824 (48%)]\tLoss: 0.136831\n",
      "Train Epoch: 3 [600/824 (72%)]\tLoss: 0.289269\n",
      "Train Epoch: 3 [800/824 (96%)]\tLoss: 0.586970\n",
      "Train Epoch: 4 [0/824 (0%)]\tLoss: 1.096336\n",
      "Train Epoch: 4 [200/824 (24%)]\tLoss: 0.380200\n",
      "Train Epoch: 4 [400/824 (48%)]\tLoss: 0.494779\n",
      "Train Epoch: 4 [600/824 (72%)]\tLoss: 0.660867\n",
      "Train Epoch: 4 [800/824 (96%)]\tLoss: 0.382733\n",
      "Train Epoch: 5 [0/824 (0%)]\tLoss: 0.218915\n",
      "Train Epoch: 5 [200/824 (24%)]\tLoss: 0.852923\n",
      "Train Epoch: 5 [400/824 (48%)]\tLoss: 0.416067\n",
      "Train Epoch: 5 [600/824 (72%)]\tLoss: 0.333306\n",
      "Train Epoch: 5 [800/824 (96%)]\tLoss: 0.068250\n",
      "Train Epoch: 6 [0/824 (0%)]\tLoss: 0.530108\n",
      "Train Epoch: 6 [200/824 (24%)]\tLoss: 0.639336\n",
      "Train Epoch: 6 [400/824 (48%)]\tLoss: 0.620111\n",
      "Train Epoch: 6 [600/824 (72%)]\tLoss: 0.112935\n",
      "Train Epoch: 6 [800/824 (96%)]\tLoss: 0.665995\n",
      "Train Epoch: 7 [0/824 (0%)]\tLoss: 0.316079\n",
      "Train Epoch: 7 [200/824 (24%)]\tLoss: 0.194721\n",
      "Train Epoch: 7 [400/824 (48%)]\tLoss: 0.310594\n",
      "Train Epoch: 7 [600/824 (72%)]\tLoss: 0.553503\n",
      "Train Epoch: 7 [800/824 (96%)]\tLoss: 0.766970\n",
      "Train Epoch: 8 [0/824 (0%)]\tLoss: 0.502840\n",
      "Train Epoch: 8 [200/824 (24%)]\tLoss: 0.283293\n",
      "Train Epoch: 8 [400/824 (48%)]\tLoss: 1.004826\n",
      "Train Epoch: 8 [600/824 (72%)]\tLoss: 0.228828\n",
      "Train Epoch: 8 [800/824 (96%)]\tLoss: 0.279497\n",
      "Train Epoch: 9 [0/824 (0%)]\tLoss: 0.513538\n",
      "Train Epoch: 9 [200/824 (24%)]\tLoss: 0.301565\n",
      "Train Epoch: 9 [400/824 (48%)]\tLoss: 0.587809\n",
      "Train Epoch: 9 [600/824 (72%)]\tLoss: 0.332163\n",
      "Train Epoch: 9 [800/824 (96%)]\tLoss: 0.262939\n"
     ]
    }
   ],
   "source": [
    "# train\n",
    "for epoch in range(1, 10):\n",
    "    train(model, device, train_loader, optimizer, epoch)"
   ]
  },
  {
   "cell_type": "code",
   "execution_count": 307,
   "metadata": {},
   "outputs": [],
   "source": [
    "optimizer = optim.Adam(model.parameters(), lr=0.00001, weight_decay=1e-3)"
   ]
  },
  {
   "cell_type": "code",
   "execution_count": 315,
   "metadata": {},
   "outputs": [
    {
     "name": "stdout",
     "output_type": "stream",
     "text": [
      "Accuracy of the CNN on the 1031 signals: 93 %\n"
     ]
    }
   ],
   "source": [
    "# test set\n",
    "test(model,test_loader)"
   ]
  },
  {
   "cell_type": "code",
   "execution_count": 316,
   "metadata": {},
   "outputs": [
    {
     "name": "stdout",
     "output_type": "stream",
     "text": [
      "Accuracy of the CNN on the 824 signals: 93 %\n"
     ]
    }
   ],
   "source": [
    "# train set\n",
    "test(model,train_loader)"
   ]
  },
  {
   "cell_type": "code",
   "execution_count": 296,
   "metadata": {},
   "outputs": [
    {
     "data": {
      "image/png": "[encoded data removed]",
      "text/plain": [
       "<Figure size 576x432 with 1 Axes>"
      ]
     },
     "metadata": {
      "needs_background": "light"
     },
     "output_type": "display_data"
    }
   ],
   "source": [
    "# train_set, test_set = random_split(dataset, [int(0.8*len(dataset)), int(0.2*len(dataset))+1])\n",
    "# train_loader = DataLoader(train_set, batch_size=10, shuffle=True)\n",
    "test_loader = DataLoader(dataset, batch_size=10, shuffle=True)\n",
    "confusion_matrix(model,test_loader)"
   ]
  },
  {
   "cell_type": "code",
   "execution_count": 127,
   "metadata": {},
   "outputs": [],
   "source": [
    "# # save parameter\n",
    "# PATH = r'./model_parameter/dropout10.pth'\n",
    "# torch.save(model.state_dict(), PATH)"
   ]
  },
  {
   "cell_type": "code",
   "execution_count": 27,
   "metadata": {},
   "outputs": [
    {
     "data": {
      "text/plain": [
       "268"
      ]
     },
     "execution_count": 27,
     "metadata": {},
     "output_type": "execute_result"
    }
   ],
   "source": [
    "label = dataset.labels\n",
    "(label==1).sum()"
   ]
  },
  {
   "cell_type": "code",
   "execution_count": 176,
   "metadata": {},
   "outputs": [
    {
     "data": {
      "text/plain": [
       "<All keys matched successfully>"
      ]
     },
     "execution_count": 176,
     "metadata": {},
     "output_type": "execute_result"
    }
   ],
   "source": [
    "# model.load_state_dict(torch.load(r'./model_parameter/dropout10.pth'))"
   ]
  },
  {
   "cell_type": "code",
   "execution_count": 237,
   "metadata": {},
   "outputs": [],
   "source": [
    "# save model\n",
    "model_path = r'./model_parameter/2-3_with_model.pth'\n",
    "torch.save(model, model_path)"
   ]
  },
  {
   "cell_type": "code",
   "execution_count": 291,
   "metadata": {},
   "outputs": [],
   "source": [
    "# read model\n",
    "model = torch.load(model_path)"
   ]
  },
  {
   "cell_type": "code",
   "execution_count": null,
   "metadata": {},
   "outputs": [],
   "source": []
  }
 ],
 "metadata": {
  "kernelspec": {
   "display_name": "Python 3",
   "language": "python",
   "name": "python3"
  },
  "language_info": {
   "codemirror_mode": {
    "name": "ipython",
    "version": 3
   },
   "file_extension": ".py",
   "mimetype": "text/x-python",
   "name": "python",
   "nbconvert_exporter": "python",
   "pygments_lexer": "ipython3",
   "version": "3.8.3"
  }
 },
 "nbformat": 4,
 "nbformat_minor": 4
}
