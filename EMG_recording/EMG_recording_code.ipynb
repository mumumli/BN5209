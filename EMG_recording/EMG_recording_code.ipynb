{
 "cells": [
  {
   "cell_type": "markdown",
   "metadata": {},
   "source": [
    "# EMG recording\n",
    "## Experiment 1: Large muscle experiment with dry and wet electrode"
   ]
  },
  {
   "cell_type": "code",
   "execution_count": 1,
   "metadata": {},
   "outputs": [],
   "source": [
    "import wave\n",
    "import matplotlib.pyplot as plt\n",
    "import numpy as np"
   ]
  },
  {
   "cell_type": "code",
   "execution_count": 2,
   "metadata": {},
   "outputs": [],
   "source": [
    "def read_wave(file_name):\n",
    "    file = wave.open(file_name,'rb')\n",
    "    params = file.getparams()\n",
    "    nchannels, sampwidth, framerate, nframes = params[:4]\n",
    "    print(\"nchannels:\", nchannels)\n",
    "    print(\"sampwidth:\", sampwidth)\n",
    "    print(\"framerate:\", framerate)\n",
    "    print(\"nframes:\", nframes)\n",
    "    strData = file.readframes(nframes)  # encoded in bytes\n",
    "    file.close()\n",
    "    waveData = np.frombuffer(strData, dtype=np.int16)  # convert to int16\n",
    "    return waveData, framerate, nframes"
   ]
  },
  {
   "cell_type": "code",
   "execution_count": 3,
   "metadata": {},
   "outputs": [],
   "source": [
    "def normalize_wave(signal, type_of_norm = \"by_max\"):\n",
    "    if type_of_norm == \"by_max\":\n",
    "        return signal / (np.max(np.abs(signal)))\n",
    "    elif type_of_norm == \"01\":\n",
    "        return (signal - np.min(signal)) / (np.max(signal)-np.min(signal))\n",
    "    elif type_of_norm == \"statistic\":\n",
    "        return signal - np.mean(signal) / np.std(signal)\n",
    "    else:\n",
    "        print(\"pls indicate right normalization method: 'by_max', '01', or 'statistic'\")\n",
    "    "
   ]
  },
  {
   "cell_type": "code",
   "execution_count": 4,
   "metadata": {},
   "outputs": [],
   "source": [
    "def plot_wave(signal, framerate, nframes, title):\n",
    "    time = np.arange(0, nframes) * (1.0 / framerate)\n",
    "    plt.figure(figsize=(6, 3))\n",
    "    plt.plot(time, signal)\n",
    "    plt.xlabel(\"Time(s)\")\n",
    "    plt.ylabel(\"Amplitude\")\n",
    "    plt.title(title)\n",
    "    plt.grid('on')\n",
    "    plt.show()"
   ]
  },
  {
   "cell_type": "code",
   "execution_count": 7,
   "metadata": {},
   "outputs": [
    {
     "name": "stdout",
     "output_type": "stream",
     "text": [
      "nchannels: 1\n",
      "sampwidth: 2\n",
      "framerate: 10000\n",
      "nframes: 338007\n"
     ]
    },
    {
     "data": {
      "image/png": "[encoded data removed]",
      "text/plain": [
       "<Figure size 432x216 with 1 Axes>"
      ]
     },
     "metadata": {
      "needs_background": "light"
     },
     "output_type": "display_data"
    }
   ],
   "source": [
    "wet_signal, wet_framerate, wet_nframes = read_wave(\"实验1-湿电极贴片02.wav\")\n",
    "wet_signal_norm = normalize_wave(wet_signal)\n",
    "plot_wave(wet_signal_norm, wet_framerate, wet_nframes, \"wet_electrode\")"
   ]
  },
  {
   "cell_type": "code",
   "execution_count": null,
   "metadata": {},
   "outputs": [],
   "source": []
  }
 ],
 "metadata": {
  "kernelspec": {
   "display_name": "Python 3",
   "language": "python",
   "name": "python3"
  },
  "language_info": {
   "codemirror_mode": {
    "name": "ipython",
    "version": 3
   },
   "file_extension": ".py",
   "mimetype": "text/x-python",
   "name": "python",
   "nbconvert_exporter": "python",
   "pygments_lexer": "ipython3",
   "version": "3.8.3"
  }
 },
 "nbformat": 4,
 "nbformat_minor": 4
}
