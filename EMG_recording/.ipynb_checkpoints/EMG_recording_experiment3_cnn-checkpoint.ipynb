{
 "cells": [
  {
   "cell_type": "code",
   "execution_count": 1,
   "metadata": {},
   "outputs": [],
   "source": [
    "import wave\n",
    "import matplotlib.pyplot as plt\n",
    "import numpy as np\n",
    "\n",
    "import scipy as sp\n",
    "from scipy import signal\n",
    "\n",
    "import os"
   ]
  },
  {
   "cell_type": "code",
   "execution_count": 2,
   "metadata": {},
   "outputs": [],
   "source": [
    "def read_actions(path):\n",
    "    files = os.listdir(path)\n",
    "    num_files = len(files)\n",
    "    segment_size = 2000\n",
    "    data = np.zeros((num_files, segment_size), dtype=np.int16)\n",
    "    \n",
    "    for i in range(num_files):\n",
    "        file = files[i]\n",
    "        if \".DS_Store\" not in file:\n",
    "            with open(path + \"/\" +file, \"rb\") as f:\n",
    "                signal = [float(line.strip()) for line in f]\n",
    "                data[i, :] = signal\n",
    "        else:\n",
    "            continue        \n",
    "        \n",
    "    return data\n",
    "\n",
    "\n",
    "def wave_data_loader():\n",
    "    flexion = read_actions('./flexion' + \"/action/\")\n",
    "    openhand = read_actions('./openhand' + \"/action/\")\n",
    "    punch = read_actions('./punch' + \"/action/\")\n",
    "    rest1 = read_actions('./flexion' + \"/rest/\")\n",
    "    rest2 = read_actions('./openhand' + \"/rest/\")\n",
    "    rest3 = read_actions('./punch' + \"/rest/\")\n",
    "    \n",
    "    all_data = np.vstack((flexion,\n",
    "                          openhand,\n",
    "                          punch,\n",
    "#                           rest1,\n",
    "#                           rest2,\n",
    "                          rest3))\n",
    "    label = np.hstack(([1]*flexion.shape[0],\n",
    "                      [2]*openhand.shape[0],\n",
    "                      [3]*punch.shape[0],\n",
    "#                       [0]*rest1.shape[0],\n",
    "#                       [0]*rest2.shape[0],\n",
    "                      [0]*rest3.shape[0]))\n",
    "    label = np.transpose(label)\n",
    "#     label_multiClass = np.zeros((label.size,4))\n",
    "#     for i in range(label.size):\n",
    "#         label_multiClass[i,label[i]] = 1\n",
    "    return all_data, label\n"
   ]
  },
  {
   "cell_type": "code",
   "execution_count": 9,
   "metadata": {},
   "outputs": [],
   "source": [
    "import torch\n",
    "import torch.nn as nn\n",
    "import torch.optim as optim\n",
    "from torch.utils.data import Dataset, DataLoader, random_split\n",
    "\n",
    "class WaveformDataset(Dataset):\n",
    "    def __init__(self):\n",
    "        self.signals, self.labels = wave_data_loader()\n",
    "\n",
    "    def __len__(self):\n",
    "        return len(self.signals)\n",
    "\n",
    "    def __getitem__(self, idx):\n",
    "        signal = self.signals[idx]\n",
    "        label = self.labels[idx]\n",
    "        return signal, label\n",
    "\n",
    "    \n",
    "    \n",
    "class WaveformCNN(nn.Module):\n",
    "    def __init__(self):\n",
    "        super(WaveformCNN, self).__init__()\n",
    "        self.conv1 = nn.Sequential(nn.Conv1d(in_channels=1, \n",
    "                                             out_channels=16, \n",
    "                                             kernel_size=3, \n",
    "                                             stride=1, \n",
    "                                             padding=1),\n",
    "#                                    nn.BatchNorm1d(16),\n",
    "                                   nn.ReLU(),\n",
    "                                   nn.MaxPool1d(kernel_size=4, stride=4))\n",
    "#         self.conv2 = nn.Sequential(nn.Conv1d(in_channels=16, \n",
    "#                                              out_channels=32, \n",
    "#                                              kernel_size=3, \n",
    "#                                              stride=1, \n",
    "#                                              padding=1),\n",
    "#                                    nn.ReLU(),\n",
    "#                                    nn.MaxPool1d(kernel_size=2, stride=2))\n",
    "        self.conv3 = nn.Sequential(nn.Conv1d(in_channels=16, \n",
    "                                             out_channels=32, \n",
    "                                             kernel_size=3, \n",
    "                                             stride=1, \n",
    "                                             padding=1),\n",
    "                                   nn.ReLU(),\n",
    "                                   nn.MaxPool1d(kernel_size=4, stride=4))\n",
    "\n",
    "        self.fc1 = nn.Linear(int(32 * 2000/4/4), 64)\n",
    "        self.fc2 = nn.Linear(64, 4)\n",
    "\n",
    "    def forward(self, x):\n",
    "        x = x.unsqueeze(1)\n",
    "        x = self.conv1(x)\n",
    "#         x = self.conv2(x)\n",
    "        x = self.conv3(x)\n",
    "        x = torch.flatten(x, start_dim=1)\n",
    "        x = torch.relu(self.fc1(x))\n",
    "        x = self.fc2(x)\n",
    "        return x\n",
    "    \n",
    "    \n",
    "def train(model, device, train_loader, optimizer, epoch):\n",
    "    \"\"\"\n",
    "    Trains the specified model for one epoch.\n",
    "    \"\"\"\n",
    "    model.train()\n",
    "    for batch_idx, data in enumerate(train_loader):\n",
    "        signal, label = data[0].to(device), data[1].to(device)\n",
    "        optimizer.zero_grad()\n",
    "        output = model(signal.float())\n",
    "#         print(output)\n",
    "#         print(label)\n",
    "        loss = nn.CrossEntropyLoss()(output, label)\n",
    "        loss.backward()\n",
    "        optimizer.step()\n",
    "        \n",
    "        if batch_idx % 20 == 0:\n",
    "            print('Train Epoch: {} [{}/{} ({:.0f}%)]\\tLoss: {:.6f}'.format(\n",
    "                epoch, batch_idx * len(signal), len(train_loader.dataset),\n",
    "                       100. * batch_idx / len(train_loader), loss.item()))\n",
    "\n",
    "            \n",
    "def test(model, test_loader):\n",
    "    # Test the model\n",
    "    correct = 0\n",
    "    total = 0\n",
    "    with torch.no_grad():\n",
    "        model.eval() \n",
    "        for signals, labels in test_loader:\n",
    "            test_output = model(signals.float())\n",
    "            _, pred_y = torch.max(test_output.data, 1)\n",
    "#             pred_y = torch.max(test_output, 1)[1].data.squeeze()  # the same function as above\n",
    "            total += labels.size(0)\n",
    "            correct += (pred_y == labels).sum().item()\n",
    "            \n",
    "    print(f'Accuracy of the CNN on the {total} test signals: {100 * correct // total} %')\n",
    "#     print(correct)\n",
    "#     print(total)"
   ]
  },
  {
   "cell_type": "code",
   "execution_count": 10,
   "metadata": {},
   "outputs": [],
   "source": [
    "dataset = WaveformDataset()\n",
    "train_set, test_set = random_split(dataset, [int(0.8*len(dataset)), int(0.2*len(dataset))+1])\n",
    "train_loader = DataLoader(train_set, batch_size=10, shuffle=True)\n",
    "test_loader = DataLoader(test_set, batch_size=10, shuffle=True)\n",
    "device = torch.device(\"cuda\" if torch.cuda.is_available() else \"cpu\")\n",
    "model = WaveformCNN().to(device)\n",
    "optimizer = optim.Adam(model.parameters(), lr=0.001)"
   ]
  },
  {
   "cell_type": "code",
   "execution_count": 17,
   "metadata": {},
   "outputs": [
    {
     "name": "stdout",
     "output_type": "stream",
     "text": [
      "Train Epoch: 1 [0/860 (0%)]\tLoss: 0.686747\n",
      "Train Epoch: 1 [200/860 (23%)]\tLoss: 0.785503\n",
      "Train Epoch: 1 [400/860 (47%)]\tLoss: 0.791102\n",
      "Train Epoch: 1 [600/860 (70%)]\tLoss: 0.904508\n",
      "Train Epoch: 1 [800/860 (93%)]\tLoss: 0.692798\n",
      "Train Epoch: 2 [0/860 (0%)]\tLoss: 0.956896\n",
      "Train Epoch: 2 [200/860 (23%)]\tLoss: 0.259791\n",
      "Train Epoch: 2 [400/860 (47%)]\tLoss: 1.078604\n",
      "Train Epoch: 2 [600/860 (70%)]\tLoss: 0.760093\n",
      "Train Epoch: 2 [800/860 (93%)]\tLoss: 0.837994\n",
      "Train Epoch: 3 [0/860 (0%)]\tLoss: 0.729579\n",
      "Train Epoch: 3 [200/860 (23%)]\tLoss: 1.322696\n",
      "Train Epoch: 3 [400/860 (47%)]\tLoss: 0.692096\n",
      "Train Epoch: 3 [600/860 (70%)]\tLoss: 0.915751\n",
      "Train Epoch: 3 [800/860 (93%)]\tLoss: 1.075255\n",
      "Train Epoch: 4 [0/860 (0%)]\tLoss: 0.986208\n",
      "Train Epoch: 4 [200/860 (23%)]\tLoss: 0.643191\n",
      "Train Epoch: 4 [400/860 (47%)]\tLoss: 1.066793\n",
      "Train Epoch: 4 [600/860 (70%)]\tLoss: 0.880787\n",
      "Train Epoch: 4 [800/860 (93%)]\tLoss: 1.053845\n",
      "Train Epoch: 5 [0/860 (0%)]\tLoss: 0.519697\n",
      "Train Epoch: 5 [200/860 (23%)]\tLoss: 1.177473\n",
      "Train Epoch: 5 [400/860 (47%)]\tLoss: 0.375570\n",
      "Train Epoch: 5 [600/860 (70%)]\tLoss: 0.760280\n",
      "Train Epoch: 5 [800/860 (93%)]\tLoss: 1.236271\n",
      "Train Epoch: 6 [0/860 (0%)]\tLoss: 0.895047\n",
      "Train Epoch: 6 [200/860 (23%)]\tLoss: 1.069507\n",
      "Train Epoch: 6 [400/860 (47%)]\tLoss: 1.067160\n",
      "Train Epoch: 6 [600/860 (70%)]\tLoss: 0.753430\n",
      "Train Epoch: 6 [800/860 (93%)]\tLoss: 0.718733\n",
      "Train Epoch: 7 [0/860 (0%)]\tLoss: 0.833081\n",
      "Train Epoch: 7 [200/860 (23%)]\tLoss: 0.991989\n",
      "Train Epoch: 7 [400/860 (47%)]\tLoss: 0.713684\n",
      "Train Epoch: 7 [600/860 (70%)]\tLoss: 0.626259\n",
      "Train Epoch: 7 [800/860 (93%)]\tLoss: 0.805325\n",
      "Train Epoch: 8 [0/860 (0%)]\tLoss: 0.593595\n",
      "Train Epoch: 8 [200/860 (23%)]\tLoss: 0.973052\n",
      "Train Epoch: 8 [400/860 (47%)]\tLoss: 0.867617\n",
      "Train Epoch: 8 [600/860 (70%)]\tLoss: 0.580800\n",
      "Train Epoch: 8 [800/860 (93%)]\tLoss: 0.658763\n",
      "Train Epoch: 9 [0/860 (0%)]\tLoss: 0.926132\n",
      "Train Epoch: 9 [200/860 (23%)]\tLoss: 0.787034\n",
      "Train Epoch: 9 [400/860 (47%)]\tLoss: 0.737805\n",
      "Train Epoch: 9 [600/860 (70%)]\tLoss: 1.027361\n",
      "Train Epoch: 9 [800/860 (93%)]\tLoss: 0.850739\n"
     ]
    }
   ],
   "source": [
    "# train\n",
    "for epoch in range(1, 10):\n",
    "    train(model, device, train_loader, optimizer, epoch)"
   ]
  },
  {
   "cell_type": "code",
   "execution_count": null,
   "metadata": {},
   "outputs": [],
   "source": [
    "# # save parameter\n",
    "# PATH = r'./model_parameter/cifar_net.pth'\n",
    "# torch.save(model.state_dict(), PATH)"
   ]
  },
  {
   "cell_type": "code",
   "execution_count": 19,
   "metadata": {},
   "outputs": [
    {
     "name": "stdout",
     "output_type": "stream",
     "text": [
      "Accuracy of the CNN on the 216 test signals: 50 %\n"
     ]
    }
   ],
   "source": [
    "# test\n",
    "test(model,test_loader)"
   ]
  },
  {
   "cell_type": "code",
   "execution_count": 16,
   "metadata": {},
   "outputs": [],
   "source": []
  },
  {
   "cell_type": "code",
   "execution_count": 17,
   "metadata": {},
   "outputs": [
    {
     "data": {
      "text/plain": [
       "460"
      ]
     },
     "execution_count": 17,
     "metadata": {},
     "output_type": "execute_result"
    }
   ],
   "source": [
    "# 统计各类的数据量 尽量balance\n",
    "_, label = wave_data_loader()\n",
    "(label==0).sum()"
   ]
  },
  {
   "cell_type": "code",
   "execution_count": null,
   "metadata": {},
   "outputs": [],
   "source": []
  }
 ],
 "metadata": {
  "kernelspec": {
   "display_name": "Python 3",
   "language": "python",
   "name": "python3"
  },
  "language_info": {
   "codemirror_mode": {
    "name": "ipython",
    "version": 3
   },
   "file_extension": ".py",
   "mimetype": "text/x-python",
   "name": "python",
   "nbconvert_exporter": "python",
   "pygments_lexer": "ipython3",
   "version": "3.8.3"
  }
 },
 "nbformat": 4,
 "nbformat_minor": 4
}
